{
 "cells": [
  {
   "cell_type": "code",
   "execution_count": 21,
   "metadata": {},
   "outputs": [],
   "source": [
    "# t,r (try this first)\n",
    "# r distribution: more samples around r=1\n",
    "\n",
    "import numpy as np\n",
    "import matplotlib.pyplot as plt\n",
    "import copy\n",
    "import torch\n",
    "import torch.nn as nn\n",
    "import torch.nn.functional as F\n",
    "import torch.optim as optim\n",
    "from torch.autograd import Variable\n",
    "import os\n",
    "\n",
    "np.random.seed(1)\n",
    "torch.manual_seed(1)\n",
    "\n",
    "# Define Transformer\n",
    "\n",
    "class T(nn.Module):\n",
    "    def __init__(self,w=256):\n",
    "        super(T, self).__init__()\n",
    "        self.l1 = nn.Linear(1,w)\n",
    "        #self.l1 = nn.Linear(input_d,w)\n",
    "        self.l2 = nn.Linear(w,w)\n",
    "        self.l3 = nn.Linear(w,2)\n",
    "    \n",
    "    def forward(self, x, eps=1.0):\n",
    "        bs = x.shape[0]\n",
    "        #f = nn.ReLU()\n",
    "        f = nn.Tanh()\n",
    "        #self.x1 = f(self.l1(x[:,1:]))\n",
    "        self.t = x[:,0]\n",
    "        self.r = torch.unsqueeze(torch.sqrt(x[:,1]**2+x[:,2]**2+x[:,3]**2),dim=1)\n",
    "        #self.tr = torch.transpose(torch.stack([self.t,self.r]),1,0)\n",
    "        self.x1 = f(self.l1(self.r))\n",
    "        self.x2 = f(self.l2(self.x1))\n",
    "        self.x3 = self.l3(self.x2)\n",
    "        self.out_t = self.x3[:,0]\n",
    "        self.out_r = self.x3[:,1]\n",
    "        self.out_x = x[:,1]/self.r[:,0]*self.out_r\n",
    "        self.out_y = x[:,2]/self.r[:,0]*self.out_r\n",
    "        self.out_z = x[:,3]/self.r[:,0]*self.out_r\n",
    "        self.out = torch.transpose(torch.stack([self.out_t,self.out_x,self.out_y,self.out_z]),1,0)\n",
    "        return x + eps*self.out\n",
    "        #return torch.transpose(torch.stack([x[:,0],x[:,1]*x[:,0],x[:,2]*x[:,0],x[:,3]*x[:,0]]),0,1)\n",
    "    \n",
    "    \n",
    "    def transform_g(self, x):\n",
    "        jac_t = torch.autograd.functional.jacobian(self.forward,x,create_graph=True)\n",
    "        jac_ts = []\n",
    "        for i in range(jac_t.shape[0]):\n",
    "            jac_ts.append(jac_t[i,:,i,:])\n",
    "\n",
    "        jac_ts = torch.stack(jac_ts)\n",
    "        jac_inv_ts = torch.inverse(jac_ts)\n",
    "        return torch.matmul(torch.matmul(jac_inv_ts.permute(0,2,1), g(x)),jac_inv_ts)"
   ]
  },
  {
   "cell_type": "code",
   "execution_count": 22,
   "metadata": {},
   "outputs": [],
   "source": [
    "def Minkowski_loss(g,t,inputs):\n",
    "    gp = t.transform_g(inputs)\n",
    "    bs = gp.shape[0]\n",
    "    minkowski_metric = torch.unsqueeze(torch.unsqueeze(torch.ones(bs,),dim=1),dim=2) * torch.unsqueeze(torch.diag(torch.tensor([1.,-1.,-1.,-1.], dtype=torch.float, requires_grad=True)), dim=0)\n",
    "    return torch.mean((gp-minkowski_metric)**2)\n",
    "\n",
    "\n",
    "def Jp_(g,t,inputs):\n",
    "    input_d = input_.shape[1]\n",
    "    jac = torch.autograd.functional.jacobian(g,inputs,create_graph=True)\n",
    "    jac_f = []\n",
    "    for i in range(jac.shape[0]):\n",
    "        jac_f.append(jac[i,:,:,i,:])\n",
    "\n",
    "    # SHAPE\n",
    "    jac_f = torch.stack(jac_f)\n",
    "    #print(jac_f.shape)\n",
    "\n",
    "    # get jacobian of t\n",
    "    jac_t = torch.autograd.functional.jacobian(t,inputs,create_graph=True)\n",
    "\n",
    "    jac_ts = []\n",
    "    for i in range(jac_t.shape[0]):\n",
    "        jac_ts.append(jac_t[i,:,i,:])\n",
    "\n",
    "    # SHAPE\n",
    "    jac_ts = torch.stack(jac_ts)\n",
    "    jac_inv_ts_tp = torch.inverse(jac_ts).permute(0,2,1)\n",
    "\n",
    "    # get Hessian of t\n",
    "    gradsss = []\n",
    "    for i in range(input_d):\n",
    "        gradss = []\n",
    "        for j in range(input_d):\n",
    "            grads = torch.autograd.grad(jac_inv_ts_tp[:,i,j], inputs, torch.ones_like(jac_inv_ts_tp[:,i,j]), create_graph=True)[0]\n",
    "            gradss.append(grads)\n",
    "        gradss = torch.stack(gradss)\n",
    "        gradsss.append(gradss)\n",
    "    # SHAPE\n",
    "    hess_t = torch.stack(gradsss).permute(2,0,1,3)\n",
    "    #print(hess_t.shape)\n",
    "\n",
    "    # calculate J'\n",
    "    Jp1 = jac_inv_ts_tp.unsqueeze(dim=1).unsqueeze(dim=2).unsqueeze(dim=5).unsqueeze(dim=6)*hess_t.permute(0,1,3,2).unsqueeze(dim=2).unsqueeze(dim=3).unsqueeze(dim=6)*g(inputs).unsqueeze(dim=1).unsqueeze(dim=2).unsqueeze(dim=3).unsqueeze(dim=4)*jac_inv_ts_tp.unsqueeze(dim=1).unsqueeze(dim=3).unsqueeze(dim=4).unsqueeze(dim=5)\n",
    "    Jp2 = jac_inv_ts_tp.unsqueeze(dim=1).unsqueeze(dim=2).unsqueeze(dim=5).unsqueeze(dim=6)*jac_inv_ts_tp.unsqueeze(dim=2).unsqueeze(dim=3).unsqueeze(dim=4).unsqueeze(dim=6)*jac_f.permute(0,2,3,1).unsqueeze(dim=1).unsqueeze(dim=2).unsqueeze(dim=3)*jac_inv_ts_tp.unsqueeze(dim=1).unsqueeze(dim=3).unsqueeze(dim=4).unsqueeze(dim=5)\n",
    "    Jp3 = jac_inv_ts_tp.unsqueeze(dim=1).unsqueeze(dim=2).unsqueeze(dim=5).unsqueeze(dim=6)*jac_inv_ts_tp.unsqueeze(dim=2).unsqueeze(dim=3).unsqueeze(dim=4).unsqueeze(dim=6)*g(inputs).unsqueeze(dim=1).unsqueeze(dim=2).unsqueeze(dim=3).unsqueeze(dim=4)*hess_t.permute(0,2,1,3).unsqueeze(dim=1).unsqueeze(dim=3).unsqueeze(dim=5)\n",
    "    Jp = Jp1 + Jp2 + Jp3\n",
    "    Jp = torch.sum(torch.sum(torch.sum(Jp,dim=6),dim=5),dim=4)\n",
    "    #print(Jp.shape)\n",
    "    return Jp\n",
    "\n",
    "\n",
    "def lie_loss(g,t,inputs):\n",
    "    \n",
    "    bs = inputs.shape[0]\n",
    "    # for SO(3)\n",
    "    g_J1 = torch.tensor([[0,1,0],[-1,0,0],[0,0,0]], dtype=torch.float, requires_grad=True)\n",
    "    g_J2 = torch.tensor([[0,0,1],[0,0,0],[-1,0,0]], dtype=torch.float, requires_grad=True)\n",
    "    g_J3 = torch.tensor([[0,0,0],[0,0,1],[0,-1,0]], dtype=torch.float, requires_grad=True)\n",
    "    g_Js = [g_J1,g_J2,g_J3]\n",
    "    \n",
    "    Jp = Jp_(g,t,inputs)\n",
    "    gp = t.transform_g(inputs)\n",
    "    inputsp = torch.unsqueeze(t(inputs), dim=2)\n",
    "    #print(Jp.shape)\n",
    "    \n",
    "    pde = 0\n",
    "    for g_J in g_Js:\n",
    "        g_J = torch.unsqueeze(torch.unsqueeze(torch.ones(bs,),dim=1),dim=1) * torch.unsqueeze(g_J, dim=0)\n",
    "        #print(Jp.permute(0,1,2).shape)\n",
    "        #print(g_J.shape)\n",
    "        #print(gp.shape)\n",
    "        pde = pde + torch.mean((torch.matmul(torch.matmul(Jp.reshape(bs,4*4,4),g_J),inputsp).reshape(bs,4,4))**2)\n",
    "        \n",
    "    g_mse = torch.mean(gp**2)\n",
    "    return pde/g_mse"
   ]
  },
  {
   "cell_type": "code",
   "execution_count": 23,
   "metadata": {},
   "outputs": [
    {
     "data": {
      "text/plain": [
       "tensor([5, 6, 1, 2, 0, 8, 9, 3, 7, 4])"
      ]
     },
     "execution_count": 23,
     "metadata": {},
     "output_type": "execute_result"
    }
   ],
   "source": [
    "torch.randperm(10)"
   ]
  },
  {
   "cell_type": "code",
   "execution_count": 24,
   "metadata": {},
   "outputs": [],
   "source": [
    "def euclidean_loss(g,t,inputs):\n",
    "    gp = t.transform_g(inputs)\n",
    "    bs = gp.shape[0]\n",
    "    minkowski_metric = torch.unsqueeze(torch.unsqueeze(torch.ones(bs,),dim=1),dim=2) * torch.unsqueeze(torch.diag(torch.tensor([-1.,-1.,-1.], dtype=torch.float, requires_grad=True)), dim=0)\n",
    "    return torch.mean((gp[:,1:,1:]-minkowski_metric)**2)\n",
    "\n",
    "def time_inv_loss(g,t,inputs):\n",
    "    gp = t.transform_g(inputs)\n",
    "    bs = gp.shape[0]\n",
    "    inputs_new = inputs.clone()\n",
    "    inputs_new[:,0] = inputs_new[:,0][torch.randperm(bs)]\n",
    "    gp_new = t.transform_g(inputs_new)\n",
    "    return torch.mean((gp-gp_new)**2)\n",
    "    "
   ]
  },
  {
   "cell_type": "code",
   "execution_count": 25,
   "metadata": {},
   "outputs": [
    {
     "name": "stdout",
     "output_type": "stream",
     "text": [
      "Epoch:  0 | Eud: 0.10227069 | Time-inv: 0.00000000 | loss: 0.10227069 \n"
     ]
    },
    {
     "ename": "KeyboardInterrupt",
     "evalue": "",
     "output_type": "error",
     "traceback": [
      "\u001b[1;31m---------------------------------------------------------------------------\u001b[0m",
      "\u001b[1;31mKeyboardInterrupt\u001b[0m                         Traceback (most recent call last)",
      "\u001b[1;32m<ipython-input-25-31ae277e10ff>\u001b[0m in \u001b[0;36m<module>\u001b[1;34m\u001b[0m\n\u001b[0;32m    105\u001b[0m     \u001b[1;31m#loss = lie_loss(g,t,inputs)\u001b[0m\u001b[1;33m\u001b[0m\u001b[1;33m\u001b[0m\u001b[1;33m\u001b[0m\u001b[0m\n\u001b[0;32m    106\u001b[0m     \u001b[0mloss1\u001b[0m \u001b[1;33m=\u001b[0m \u001b[0meuclidean_loss\u001b[0m\u001b[1;33m(\u001b[0m\u001b[0mg\u001b[0m\u001b[1;33m,\u001b[0m\u001b[0mt\u001b[0m\u001b[1;33m,\u001b[0m\u001b[0minputs\u001b[0m\u001b[1;33m)\u001b[0m\u001b[1;33m\u001b[0m\u001b[1;33m\u001b[0m\u001b[0m\n\u001b[1;32m--> 107\u001b[1;33m     \u001b[0mloss2\u001b[0m \u001b[1;33m=\u001b[0m \u001b[0mtime_inv_loss\u001b[0m\u001b[1;33m(\u001b[0m\u001b[0mg\u001b[0m\u001b[1;33m,\u001b[0m\u001b[0mt\u001b[0m\u001b[1;33m,\u001b[0m\u001b[0minputs\u001b[0m\u001b[1;33m)\u001b[0m\u001b[1;33m\u001b[0m\u001b[1;33m\u001b[0m\u001b[0m\n\u001b[0m\u001b[0;32m    108\u001b[0m     \u001b[0mloss\u001b[0m \u001b[1;33m=\u001b[0m \u001b[0mloss1\u001b[0m \u001b[1;33m+\u001b[0m \u001b[0mloss2\u001b[0m\u001b[1;33m\u001b[0m\u001b[1;33m\u001b[0m\u001b[0m\n\u001b[0;32m    109\u001b[0m     \u001b[0mlosses\u001b[0m\u001b[1;33m.\u001b[0m\u001b[0mappend\u001b[0m\u001b[1;33m(\u001b[0m\u001b[0mloss\u001b[0m\u001b[1;33m.\u001b[0m\u001b[0mdetach\u001b[0m\u001b[1;33m(\u001b[0m\u001b[1;33m)\u001b[0m\u001b[1;33m.\u001b[0m\u001b[0mnumpy\u001b[0m\u001b[1;33m(\u001b[0m\u001b[1;33m)\u001b[0m\u001b[1;33m)\u001b[0m\u001b[1;33m\u001b[0m\u001b[1;33m\u001b[0m\u001b[0m\n",
      "\u001b[1;32m<ipython-input-24-1ff000e01c10>\u001b[0m in \u001b[0;36mtime_inv_loss\u001b[1;34m(g, t, inputs)\u001b[0m\n\u001b[0;32m      6\u001b[0m \u001b[1;33m\u001b[0m\u001b[0m\n\u001b[0;32m      7\u001b[0m \u001b[1;32mdef\u001b[0m \u001b[0mtime_inv_loss\u001b[0m\u001b[1;33m(\u001b[0m\u001b[0mg\u001b[0m\u001b[1;33m,\u001b[0m\u001b[0mt\u001b[0m\u001b[1;33m,\u001b[0m\u001b[0minputs\u001b[0m\u001b[1;33m)\u001b[0m\u001b[1;33m:\u001b[0m\u001b[1;33m\u001b[0m\u001b[1;33m\u001b[0m\u001b[0m\n\u001b[1;32m----> 8\u001b[1;33m     \u001b[0mgp\u001b[0m \u001b[1;33m=\u001b[0m \u001b[0mt\u001b[0m\u001b[1;33m.\u001b[0m\u001b[0mtransform_g\u001b[0m\u001b[1;33m(\u001b[0m\u001b[0minputs\u001b[0m\u001b[1;33m)\u001b[0m\u001b[1;33m\u001b[0m\u001b[1;33m\u001b[0m\u001b[0m\n\u001b[0m\u001b[0;32m      9\u001b[0m     \u001b[0mbs\u001b[0m \u001b[1;33m=\u001b[0m \u001b[0mgp\u001b[0m\u001b[1;33m.\u001b[0m\u001b[0mshape\u001b[0m\u001b[1;33m[\u001b[0m\u001b[1;36m0\u001b[0m\u001b[1;33m]\u001b[0m\u001b[1;33m\u001b[0m\u001b[1;33m\u001b[0m\u001b[0m\n\u001b[0;32m     10\u001b[0m     \u001b[0minputs_new\u001b[0m \u001b[1;33m=\u001b[0m \u001b[0minputs\u001b[0m\u001b[1;33m.\u001b[0m\u001b[0mclone\u001b[0m\u001b[1;33m(\u001b[0m\u001b[1;33m)\u001b[0m\u001b[1;33m\u001b[0m\u001b[1;33m\u001b[0m\u001b[0m\n",
      "\u001b[1;32m<ipython-input-21-449757d35ff6>\u001b[0m in \u001b[0;36mtransform_g\u001b[1;34m(self, x)\u001b[0m\n\u001b[0;32m     47\u001b[0m \u001b[1;33m\u001b[0m\u001b[0m\n\u001b[0;32m     48\u001b[0m     \u001b[1;32mdef\u001b[0m \u001b[0mtransform_g\u001b[0m\u001b[1;33m(\u001b[0m\u001b[0mself\u001b[0m\u001b[1;33m,\u001b[0m \u001b[0mx\u001b[0m\u001b[1;33m)\u001b[0m\u001b[1;33m:\u001b[0m\u001b[1;33m\u001b[0m\u001b[1;33m\u001b[0m\u001b[0m\n\u001b[1;32m---> 49\u001b[1;33m         \u001b[0mjac_t\u001b[0m \u001b[1;33m=\u001b[0m \u001b[0mtorch\u001b[0m\u001b[1;33m.\u001b[0m\u001b[0mautograd\u001b[0m\u001b[1;33m.\u001b[0m\u001b[0mfunctional\u001b[0m\u001b[1;33m.\u001b[0m\u001b[0mjacobian\u001b[0m\u001b[1;33m(\u001b[0m\u001b[0mself\u001b[0m\u001b[1;33m.\u001b[0m\u001b[0mforward\u001b[0m\u001b[1;33m,\u001b[0m\u001b[0mx\u001b[0m\u001b[1;33m,\u001b[0m\u001b[0mcreate_graph\u001b[0m\u001b[1;33m=\u001b[0m\u001b[1;32mTrue\u001b[0m\u001b[1;33m)\u001b[0m\u001b[1;33m\u001b[0m\u001b[1;33m\u001b[0m\u001b[0m\n\u001b[0m\u001b[0;32m     50\u001b[0m         \u001b[0mjac_ts\u001b[0m \u001b[1;33m=\u001b[0m \u001b[1;33m[\u001b[0m\u001b[1;33m]\u001b[0m\u001b[1;33m\u001b[0m\u001b[1;33m\u001b[0m\u001b[0m\n\u001b[0;32m     51\u001b[0m         \u001b[1;32mfor\u001b[0m \u001b[0mi\u001b[0m \u001b[1;32min\u001b[0m \u001b[0mrange\u001b[0m\u001b[1;33m(\u001b[0m\u001b[0mjac_t\u001b[0m\u001b[1;33m.\u001b[0m\u001b[0mshape\u001b[0m\u001b[1;33m[\u001b[0m\u001b[1;36m0\u001b[0m\u001b[1;33m]\u001b[0m\u001b[1;33m)\u001b[0m\u001b[1;33m:\u001b[0m\u001b[1;33m\u001b[0m\u001b[1;33m\u001b[0m\u001b[0m\n",
      "\u001b[1;32mD:\\Anaconda\\lib\\site-packages\\torch\\autograd\\functional.py\u001b[0m in \u001b[0;36mjacobian\u001b[1;34m(func, inputs, create_graph, strict)\u001b[0m\n\u001b[0;32m    436\u001b[0m         \u001b[1;32mfor\u001b[0m \u001b[0mj\u001b[0m \u001b[1;32min\u001b[0m \u001b[0mrange\u001b[0m\u001b[1;33m(\u001b[0m\u001b[0mout\u001b[0m\u001b[1;33m.\u001b[0m\u001b[0mnelement\u001b[0m\u001b[1;33m(\u001b[0m\u001b[1;33m)\u001b[0m\u001b[1;33m)\u001b[0m\u001b[1;33m:\u001b[0m\u001b[1;33m\u001b[0m\u001b[1;33m\u001b[0m\u001b[0m\n\u001b[0;32m    437\u001b[0m             vj = _autograd_grad((out.reshape(-1)[j],), inputs,\n\u001b[1;32m--> 438\u001b[1;33m                                 retain_graph=True, create_graph=create_graph)\n\u001b[0m\u001b[0;32m    439\u001b[0m \u001b[1;33m\u001b[0m\u001b[0m\n\u001b[0;32m    440\u001b[0m             \u001b[1;32mfor\u001b[0m \u001b[0mel_idx\u001b[0m\u001b[1;33m,\u001b[0m \u001b[1;33m(\u001b[0m\u001b[0mjac_i_el\u001b[0m\u001b[1;33m,\u001b[0m \u001b[0mvj_el\u001b[0m\u001b[1;33m,\u001b[0m \u001b[0minp_el\u001b[0m\u001b[1;33m)\u001b[0m \u001b[1;32min\u001b[0m \u001b[0menumerate\u001b[0m\u001b[1;33m(\u001b[0m\u001b[0mzip\u001b[0m\u001b[1;33m(\u001b[0m\u001b[0mjac_i\u001b[0m\u001b[1;33m,\u001b[0m \u001b[0mvj\u001b[0m\u001b[1;33m,\u001b[0m \u001b[0minputs\u001b[0m\u001b[1;33m)\u001b[0m\u001b[1;33m)\u001b[0m\u001b[1;33m:\u001b[0m\u001b[1;33m\u001b[0m\u001b[1;33m\u001b[0m\u001b[0m\n",
      "\u001b[1;32mD:\\Anaconda\\lib\\site-packages\\torch\\autograd\\functional.py\u001b[0m in \u001b[0;36m_autograd_grad\u001b[1;34m(outputs, inputs, grad_outputs, create_graph, retain_graph)\u001b[0m\n\u001b[0;32m    145\u001b[0m     \u001b[1;32melse\u001b[0m\u001b[1;33m:\u001b[0m\u001b[1;33m\u001b[0m\u001b[1;33m\u001b[0m\u001b[0m\n\u001b[0;32m    146\u001b[0m         return torch.autograd.grad(new_outputs, inputs, new_grad_outputs, allow_unused=True,\n\u001b[1;32m--> 147\u001b[1;33m                                    create_graph=create_graph, retain_graph=retain_graph)\n\u001b[0m\u001b[0;32m    148\u001b[0m \u001b[1;33m\u001b[0m\u001b[0m\n\u001b[0;32m    149\u001b[0m \u001b[1;32mdef\u001b[0m \u001b[0m_fill_in_zeros\u001b[0m\u001b[1;33m(\u001b[0m\u001b[0mgrads\u001b[0m\u001b[1;33m,\u001b[0m \u001b[0mrefs\u001b[0m\u001b[1;33m,\u001b[0m \u001b[0mstrict\u001b[0m\u001b[1;33m,\u001b[0m \u001b[0mcreate_graph\u001b[0m\u001b[1;33m,\u001b[0m \u001b[0mstage\u001b[0m\u001b[1;33m)\u001b[0m\u001b[1;33m:\u001b[0m\u001b[1;33m\u001b[0m\u001b[1;33m\u001b[0m\u001b[0m\n",
      "\u001b[1;32mD:\\Anaconda\\lib\\site-packages\\torch\\autograd\\__init__.py\u001b[0m in \u001b[0;36mgrad\u001b[1;34m(outputs, inputs, grad_outputs, retain_graph, create_graph, only_inputs, allow_unused)\u001b[0m\n\u001b[0;32m    202\u001b[0m     return Variable._execution_engine.run_backward(\n\u001b[0;32m    203\u001b[0m         \u001b[0moutputs\u001b[0m\u001b[1;33m,\u001b[0m \u001b[0mgrad_outputs_\u001b[0m\u001b[1;33m,\u001b[0m \u001b[0mretain_graph\u001b[0m\u001b[1;33m,\u001b[0m \u001b[0mcreate_graph\u001b[0m\u001b[1;33m,\u001b[0m\u001b[1;33m\u001b[0m\u001b[1;33m\u001b[0m\u001b[0m\n\u001b[1;32m--> 204\u001b[1;33m         inputs, allow_unused)\n\u001b[0m\u001b[0;32m    205\u001b[0m \u001b[1;33m\u001b[0m\u001b[0m\n\u001b[0;32m    206\u001b[0m \u001b[1;33m\u001b[0m\u001b[0m\n",
      "\u001b[1;31mKeyboardInterrupt\u001b[0m: "
     ]
    },
    {
     "data": {
      "text/plain": [
       "<Figure size 1080x360 with 0 Axes>"
      ]
     },
     "metadata": {},
     "output_type": "display_data"
    }
   ],
   "source": [
    "from celluloid import Camera\n",
    "import matplotlib.pyplot as plt\n",
    "fig = plt.figure(figsize=(15,5))\n",
    "camera = Camera(fig)\n",
    "\n",
    "\n",
    "# Training a transformer to minimize PDE losses\n",
    "\n",
    "def g(x_):\n",
    "    bs = x_.shape[0]\n",
    "    t = x_[:,0]\n",
    "    #a = t\n",
    "    a = torch.ones_like(t)\n",
    "    x = x_[:,1]\n",
    "    y = x_[:,2]\n",
    "    z = x_[:,3]\n",
    "    r = torch.sqrt(x**2+y**2+z**2)\n",
    "    stack1 = torch.stack([torch.ones(bs,)-1/r, torch.zeros(bs,), torch.zeros(bs,), torch.zeros(bs,)])\n",
    "    stack2 = torch.stack([torch.zeros(bs,), -(1+x**2/((r-1)*r**2)), -x*y/((r-1)*r**2), -x*z/((r-1)*r**2)])\n",
    "    stack3 = torch.stack([torch.zeros(bs,), -x*y/((r-1)*r**2), -(1+y**2/((r-1)*r**2)), -y*z/((r-1)*r**2)])\n",
    "    stack4 = torch.stack([torch.zeros(bs,), -x*z/((r-1)*r**2), -y*z/((r-1)*r**2), -(1+z**2/((r-1)*r**2))])\n",
    "    gs = torch.stack([stack1, stack2, stack3, stack4]).permute(2,0,1)\n",
    "    return gs\n",
    "\n",
    "'''# Kerr Metric\n",
    "def g_kerr(x_):\n",
    "    a = 0.\n",
    "    bs = x_.shape[0]\n",
    "    t = x_[:,0]\n",
    "    #a = t\n",
    "    #a = torch.ones_like(t)\n",
    "    x = x_[:,1]\n",
    "    y = x_[:,2]\n",
    "    z = x_[:,3]\n",
    "    r = torch.sqrt(x**2+y**2+z**2)\n",
    "    rho2 = x**2+y**2\n",
    "    r4az2 = r**4 + a**2*z**2\n",
    "    a2rr1 = a**2 + r*(r-1)\n",
    "    one = torch.ones(bs,)\n",
    "    g11_1 = -x**2*r4az2/(r**4*a2rr1)\n",
    "    g11_2 = -x**2*z**2*r4az2/(r**6*rho2)\n",
    "    g11_3 = -y**2*(1+a**2/r**2+a**2*rho2/(r*r4az2))/rho2\n",
    "    g11 = g11_1 + g11_2 + g11_3\n",
    "    g12 = g21 = -x*y/(r**6*rho2)*(z**2*r4az2+r**2*rho2*r4az2/a2rr1-r**4*(r**2+a**2*(1+r*rho2/r4az2)))\n",
    "    g22 = -1/rho2*(y**2*z**2/r**2+y**2*(a**2*z**4/r**6+rho2*r4az2/(r**4*a2rr1))+x**2*(1+a**2/r**2+a**2*rho2/(r*r4az2)))\n",
    "    g13 = g31 = -(-a**2+r)*x*z*r4az2/(r**6*a2rr1)\n",
    "    g23 = g32 = -(-a**2+r)*y*z*r4az2/(r**6*a2rr1)\n",
    "    g33 = -r4az2*(rho2+r**2*z**2/a2rr1)/r**6\n",
    "    stack1 = torch.stack([1.*one-r**3/r4az2, -a*r*y/r4az2, a*r*x/r4az2, 0.*one])\n",
    "    stack2 = torch.stack([-a*r*y/r4az2, g11, g12, g13])\n",
    "    stack3 = torch.stack([a*r*x/r4az2, g21, g22, g23])\n",
    "    stack4 = torch.stack([0.*one, g31, g32, g33])\n",
    "    gs = torch.stack([stack1, stack2, stack3, stack4]).permute(2,0,1)\n",
    "    return gs'''\n",
    "\n",
    "\n",
    "\n",
    "np.random.seed(0)\n",
    "torch.manual_seed(0)\n",
    "\n",
    "\n",
    "#W = torch.rand(1000,4, requires_grad=True)\n",
    "W = torch.normal(0,1,size=(1000,4),requires_grad=True)\n",
    "#input_ = W\n",
    "input_ = torch.empty(1000,4, requires_grad=False)\n",
    "input_[:,0] = (torch.rand(1000, requires_grad=True)-0.5)*3.0 + 1.5\n",
    "#input_[:,1:] = torch.abs(torch.rand(1000, requires_grad=True))\n",
    "#rs = 1.2 + torch.abs(torch.normal(0,1,size=(1000,), requires_grad=True)*2)\n",
    "rs = torch.linspace(1.1,2.5,steps=1001)[:1000]**2\n",
    "#rs1 = 1.05 + 0.15 * torch.linspace(0,1,steps=501)[:500]\n",
    "#rs2 = 1.2 + 4.8 * torch.linspace(0,1,steps=501)[:500]\n",
    "#rs = torch.cat([rs1, rs2])\n",
    "input_[:,1:] = W[:,1:]/torch.norm(W[:,1:], dim=1, keepdim=True)*torch.unsqueeze(rs, dim=1)\n",
    "\n",
    "\n",
    "input_d = input_.shape[1]\n",
    "\n",
    "\n",
    "t = T(w=400)\n",
    "epochs = 1000\n",
    "switch_epoch = 200\n",
    "\n",
    "n_train = input_.shape[0]\n",
    "batch_size = 64\n",
    "\n",
    "lr = 5e-3\n",
    "optimizer = optim.Adam(t.parameters(), lr=lr)\n",
    "\n",
    "log = 10\n",
    "\n",
    "losses = []\n",
    "\n",
    "for epoch in range(epochs):\n",
    "    \n",
    "    if (epoch) % 1000 == 0:\n",
    "        lr = lr * 0.2\n",
    "        optimizer = optim.Adam(t.parameters(), lr=lr)\n",
    "\n",
    "    t.train()\n",
    "    optimizer.zero_grad()\n",
    "\n",
    "    choices = np.random.choice(n_train, batch_size)\n",
    "    inputs = input_[choices]\n",
    "\n",
    "    #loss = lie_loss(g,t,inputs)\n",
    "    loss1 = euclidean_loss(g,t,inputs)\n",
    "    loss2 = time_inv_loss(g,t,inputs)\n",
    "    loss = loss1 + loss2\n",
    "    losses.append(loss.detach().numpy())\n",
    "    #loss.backward(retain_graph=True)\n",
    "    loss.backward(retain_graph=True)\n",
    "    optimizer.step()\n",
    "\n",
    "    if epoch == epochs-1:\n",
    "        batches = int((input_.shape[0]-1)/batch_size)+1\n",
    "        loss = 0\n",
    "        for j in range(batches):\n",
    "            print(\"{}/{}\".format(j,batches))\n",
    "            if j < batches-1:\n",
    "                inputs = input_[j*batch_size:(j+1)*batch_size]\n",
    "            else:\n",
    "                inputs = input_[j*batch_size:]\n",
    "\n",
    "            loss_mkw = euclidean_loss(g,t,inputs)\n",
    "            loss = loss + loss_mkw*inputs.shape[0]\n",
    "        loss = loss/input_.shape[0]\n",
    "        print(\"Average loss: %.8f \" % loss)\n",
    "        losses.append(loss.detach().numpy())\n",
    "\n",
    "    if epoch%log == 0:\n",
    "        print('Epoch:  %d | Eud: %.8f | Time-inv: %.8f | loss: %.8f ' %(epoch, loss1, loss2, loss))\n"
   ]
  },
  {
   "cell_type": "code",
   "execution_count": null,
   "metadata": {},
   "outputs": [],
   "source": [
    "xp = t(input_)\n",
    "tps = xp[:,0].detach().numpy()\n",
    "rs = torch.norm(input_[:,1:], dim=1).detach().numpy()\n",
    "rps = torch.norm(xp[:,1:], dim=1).detach().numpy()\n",
    "tdiff = (input_[:,0] - 1*xp[:,0]).detach().numpy()"
   ]
  },
  {
   "cell_type": "code",
   "execution_count": null,
   "metadata": {},
   "outputs": [],
   "source": [
    "a_true = -2*np.sqrt(rs) + np.log((np.sqrt(rs)+1)/(np.sqrt(rs)-1))"
   ]
  },
  {
   "cell_type": "code",
   "execution_count": 146,
   "metadata": {},
   "outputs": [
    {
     "data": {
      "text/plain": [
       "Text(0.5, 1.0, 'GP coordinate of Schwarzschild')"
      ]
     },
     "execution_count": 146,
     "metadata": {},
     "output_type": "execute_result"
    },
    {
     "data": {
      "image/png": "[encoded data removed]",
      "text/plain": [
       "<Figure size 432x288 with 1 Axes>"
      ]
     },
     "metadata": {
      "needs_background": "light"
     },
     "output_type": "display_data"
    }
   ],
   "source": [
    "plt.scatter(rs, a_true, s=5,color=\"red\")\n",
    "plt.scatter(rs, tdiff+9.77, s=2, alpha=0.7, color=\"blue\")\n",
    "plt.legend([\"Gullstrand–Painlevé\",\"NN\"],fontsize=15)\n",
    "plt.xlabel(\"r\", fontsize=15)\n",
    "plt.text(3.5,-1.5,r\"$a(u)=-2u+ln(\\frac{u+1}{u-1})$\",color=\"red\",fontsize=15)\n",
    "plt.text(5,-2.5,r\"$u=\\sqrt{\\frac{r}{2M}}$\",color=\"red\",fontsize=15)\n",
    "plt.ylabel(r\"$t-t' = a(r)$\", fontsize=15)\n",
    "plt.title(\"GP coordinate of Schwarzschild\",fontsize=20)\n",
    "#plt.savefig('./figures/gp.pdf')"
   ]
  },
  {
   "cell_type": "code",
   "execution_count": 175,
   "metadata": {},
   "outputs": [
    {
     "data": {
      "text/plain": [
       "3.1553438e-06"
      ]
     },
     "execution_count": 175,
     "metadata": {},
     "output_type": "execute_result"
    }
   ],
   "source": [
    "np.mean((a_true[::10]-(tdiff[::10]+9.8325))**2)"
   ]
  },
  {
   "cell_type": "code",
   "execution_count": null,
   "metadata": {},
   "outputs": [],
   "source": []
  },
  {
   "cell_type": "code",
   "execution_count": 205,
   "metadata": {},
   "outputs": [
    {
     "data": {
      "text/plain": [
       "(0, 10)"
      ]
     },
     "execution_count": 205,
     "metadata": {},
     "output_type": "execute_result"
    },
    {
     "data": {
      "image/png": "[encoded data removed]",
      "text/plain": [
       "<Figure size 432x288 with 1 Axes>"
      ]
     },
     "metadata": {
      "needs_background": "light"
     },
     "output_type": "display_data"
    }
   ],
   "source": [
    "#u = np.sqrt(np.array(rs))\n",
    "u = np.linspace(1.05,10,num=1000)\n",
    "f = 2*u + np.log((u-1)/(u+1))\n",
    "f2 = 2*u\n",
    "plt.plot(u,f)\n",
    "plt.plot(u,f2)\n",
    "plt.plot([1,1],[-20,30], ls=\"--\", color=\"red\")\n",
    "plt.xlabel(\"u\",fontsize=20)\n",
    "plt.ylim(-5,20)\n",
    "plt.xlim(0,10)"
   ]
  },
  {
   "cell_type": "code",
   "execution_count": null,
   "metadata": {},
   "outputs": [],
   "source": []
  },
  {
   "cell_type": "code",
   "execution_count": 206,
   "metadata": {},
   "outputs": [],
   "source": [
    "np.savetxt(\"./GP_true.txt\", np.transpose(np.array([np.sqrt(np.array(rs)), np.array(-a_true)])))"
   ]
  },
  {
   "cell_type": "code",
   "execution_count": 133,
   "metadata": {},
   "outputs": [],
   "source": [
    "np.savetxt(\"./GP_nn.txt\", np.transpose(np.array([np.sqrt(np.array(rs)), -(tdiff+9.7588)])))"
   ]
  },
  {
   "cell_type": "code",
   "execution_count": 139,
   "metadata": {},
   "outputs": [
    {
     "data": {
      "text/plain": [
       "[<matplotlib.lines.Line2D at 0x252d9753b48>]"
      ]
     },
     "execution_count": 139,
     "metadata": {},
     "output_type": "execute_result"
    },
    {
     "data": {
      "image/png": "[encoded data removed]",
      "text/plain": [
       "<Figure size 432x288 with 1 Axes>"
      ]
     },
     "metadata": {
      "needs_background": "light"
     },
     "output_type": "display_data"
    }
   ],
   "source": [
    "u = np.loadtxt(\"./GP_nn.txt\")[:,0]\n",
    "f = np.loadtxt(\"./GP_nn.txt\")[:,1]\n",
    "plt.plot(u,f)"
   ]
  },
  {
   "cell_type": "code",
   "execution_count": 211,
   "metadata": {},
   "outputs": [],
   "source": [
    "rs = np.loadtxt(\"./GP_true.txt\")[:,0]**2\n",
    "a_true = np.loadtxt(\"./GP_true.txt\")[:,1]\n",
    "a_pred = np.loadtxt(\"./GP_nn.txt\")[:,1]"
   ]
  },
  {
   "cell_type": "code",
   "execution_count": 213,
   "metadata": {},
   "outputs": [
    {
     "data": {
      "image/png": "[encoded data removed]",
      "text/plain": [
       "<Figure size 432x288 with 1 Axes>"
      ]
     },
     "metadata": {
      "needs_background": "light"
     },
     "output_type": "display_data"
    }
   ],
   "source": [
    "plt.scatter(rs, -a_true, s=5,color=\"red\")\n",
    "plt.scatter(rs, -a_pred, s=2, alpha=0.7, color=\"blue\")\n",
    "plt.legend([\"Gullstrand–Painlevé\",\"NN\"],fontsize=15)\n",
    "plt.xlabel(\"r\", fontsize=15)\n",
    "plt.text(3.5,-1.5,r\"$a(u)=-2u+ln(\\frac{u+1}{u-1})$\",color=\"red\",fontsize=15)\n",
    "plt.text(5,-2.5,r\"$u=\\sqrt{\\frac{r}{2M}}$\",color=\"red\",fontsize=15)\n",
    "plt.ylabel(r\"$t-t' = a(r)$\", fontsize=15)\n",
    "plt.title(\"F. GP coordinate of Schwarzschild\",fontsize=20)\n",
    "plt.savefig('./figures/gp.pdf')"
   ]
  },
  {
   "cell_type": "code",
   "execution_count": 18,
   "metadata": {},
   "outputs": [],
   "source": [
    "def g(x_):\n",
    "    bs = x_.shape[0]\n",
    "    t = x_[:,0]\n",
    "    #a = t\n",
    "    a = torch.ones_like(t)\n",
    "    x = x_[:,1]\n",
    "    y = x_[:,2]\n",
    "    z = x_[:,3]\n",
    "    r = torch.sqrt(x**2+y**2+z**2)\n",
    "    stack1 = torch.stack([torch.ones(bs,)-1/r, torch.zeros(bs,), torch.zeros(bs,), torch.zeros(bs,)])\n",
    "    stack2 = torch.stack([torch.zeros(bs,), -(1+x**2/((r-1)*r**2)), -x*y/((r-1)*r**2), -x*z/((r-1)*r**2)])\n",
    "    stack3 = torch.stack([torch.zeros(bs,), -x*y/((r-1)*r**2), -(1+y**2/((r-1)*r**2)), -y*z/((r-1)*r**2)])\n",
    "    stack4 = torch.stack([torch.zeros(bs,), -x*z/((r-1)*r**2), -y*z/((r-1)*r**2), -(1+z**2/((r-1)*r**2))])\n",
    "    gs = torch.stack([stack1, stack2, stack3, stack4]).permute(2,0,1)\n",
    "    return gs\n",
    "\n",
    "# Kerr Metric\n",
    "def g_kerr(x_):\n",
    "    a = 0.\n",
    "    bs = x_.shape[0]\n",
    "    t = x_[:,0]\n",
    "    #a = t\n",
    "    #a = torch.ones_like(t)\n",
    "    x = x_[:,1]\n",
    "    y = x_[:,2]\n",
    "    z = x_[:,3]\n",
    "    r = torch.sqrt(x**2+y**2+z**2)\n",
    "    rho2 = x**2+y**2\n",
    "    r4az2 = r**4 + a**2*z**2\n",
    "    a2rr1 = a**2 + r*(r-1)\n",
    "    one = torch.ones(bs,)\n",
    "    g11_1 = -x**2*r4az2/(r**4*a2rr1)\n",
    "    g11_2 = -x**2*z**2*r4az2/(r**6*rho2)\n",
    "    g11_3 = -y**2*(1+a**2/r**2+a**2*rho2/(r*r4az2))/rho2\n",
    "    g11 = g11_1 + g11_2 + g11_3\n",
    "    g12 = g21 = -x*y/(r**6*rho2)*(z**2*r4az2+r**2*rho2*r4az2/a2rr1-r**4*(r**2+a**2*(1+r*rho2/r4az2)))\n",
    "    g22 = -1/rho2*(y**2*z**2/r**2+y**2*(a**2*z**4/r**6+rho2*r4az2/(r**4*a2rr1))+x**2*(1+a**2/r**2+a**2*rho2/(r*r4az2)))\n",
    "    g13 = g31 = -(-a**2+r)*x*z*r4az2/(r**6*a2rr1)\n",
    "    g23 = g32 = -(-a**2+r)*y*z*r4az2/(r**6*a2rr1)\n",
    "    g33 = -r4az2*(rho2+r**2*z**2/a2rr1)/r**6\n",
    "    stack1 = torch.stack([1.*one-r**3/r4az2, -a*r*y/r4az2, a*r*x/r4az2, 0.*one])\n",
    "    stack2 = torch.stack([-a*r*y/r4az2, g11, g12, g13])\n",
    "    stack3 = torch.stack([a*r*x/r4az2, g21, g22, g23])\n",
    "    stack4 = torch.stack([0.*one, g31, g32, g33])\n",
    "    gs = torch.stack([stack1, stack2, stack3, stack4]).permute(2,0,1)\n",
    "    return gs"
   ]
  },
  {
   "cell_type": "code",
   "execution_count": 20,
   "metadata": {},
   "outputs": [
    {
     "data": {
      "text/plain": [
       "tensor([[[ 0.0000e+00,  0.0000e+00,  0.0000e+00,  0.0000e+00],\n",
       "         [ 0.0000e+00,  0.0000e+00, -5.9605e-08,  0.0000e+00],\n",
       "         [ 0.0000e+00, -5.9605e-08,  2.3842e-07, -3.7253e-09],\n",
       "         [ 0.0000e+00,  0.0000e+00, -3.7253e-09,  2.3842e-07]],\n",
       "\n",
       "        [[ 0.0000e+00,  0.0000e+00,  0.0000e+00,  0.0000e+00],\n",
       "         [ 0.0000e+00,  0.0000e+00,  5.9605e-08, -2.9802e-08],\n",
       "         [ 0.0000e+00,  5.9605e-08, -1.1921e-07,  0.0000e+00],\n",
       "         [ 0.0000e+00, -2.9802e-08,  0.0000e+00,  1.1921e-07]],\n",
       "\n",
       "        [[ 0.0000e+00,  0.0000e+00,  0.0000e+00,  0.0000e+00],\n",
       "         [ 0.0000e+00,  0.0000e+00,  1.4901e-08, -7.4506e-09],\n",
       "         [ 0.0000e+00,  1.4901e-08,  1.1921e-07,  0.0000e+00],\n",
       "         [ 0.0000e+00, -7.4506e-09,  0.0000e+00,  0.0000e+00]],\n",
       "\n",
       "        ...,\n",
       "\n",
       "        [[ 5.9605e-08,  0.0000e+00,  0.0000e+00,  0.0000e+00],\n",
       "         [ 0.0000e+00, -1.1921e-07, -1.4901e-07, -2.7940e-09],\n",
       "         [ 0.0000e+00, -1.4901e-07,  1.1921e-07, -1.8626e-09],\n",
       "         [ 0.0000e+00, -2.7940e-09, -1.8626e-09, -2.3842e-07]],\n",
       "\n",
       "        [[ 0.0000e+00,  0.0000e+00,  0.0000e+00,  0.0000e+00],\n",
       "         [ 0.0000e+00,  1.1921e-07, -5.5879e-09, -1.8626e-09],\n",
       "         [ 0.0000e+00, -5.5879e-09, -1.1921e-07,  2.3283e-10],\n",
       "         [ 0.0000e+00, -1.8626e-09,  2.3283e-10,  0.0000e+00]],\n",
       "\n",
       "        [[ 0.0000e+00,  0.0000e+00,  0.0000e+00,  0.0000e+00],\n",
       "         [ 0.0000e+00,  0.0000e+00, -5.9605e-08,  0.0000e+00],\n",
       "         [ 0.0000e+00, -5.9605e-08,  1.1921e-07,  1.4901e-08],\n",
       "         [ 0.0000e+00,  0.0000e+00,  1.4901e-08, -1.1921e-07]]],\n",
       "       grad_fn=<SubBackward0>)"
      ]
     },
     "execution_count": 20,
     "metadata": {},
     "output_type": "execute_result"
    }
   ],
   "source": [
    "g(inputs) - g_kerr(inputs)"
   ]
  },
  {
   "cell_type": "code",
   "execution_count": null,
   "metadata": {},
   "outputs": [],
   "source": []
  }
 ],
 "metadata": {
  "kernelspec": {
   "display_name": "Python 3",
   "language": "python",
   "name": "python3"
  },
  "language_info": {
   "codemirror_mode": {
    "name": "ipython",
    "version": 3
   },
   "file_extension": ".py",
   "mimetype": "text/x-python",
   "name": "python",
   "nbconvert_exporter": "python",
   "pygments_lexer": "ipython3",
   "version": "3.7.4"
  }
 },
 "nbformat": 4,
 "nbformat_minor": 2
}
